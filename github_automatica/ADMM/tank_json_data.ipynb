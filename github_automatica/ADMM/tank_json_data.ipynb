{
 "cells": [
  {
   "cell_type": "code",
   "execution_count": null,
   "metadata": {},
   "outputs": [],
   "source": [
    "# import json\n",
    "# import numpy as np\n",
    "# class NumpyEncoder(json.JSONEncoder):\n",
    "#     def default(self, obj):\n",
    "#         if isinstance(obj, np.ndarray):\n",
    "#             return obj.tolist()\n",
    "#         return json.JSONEncoder.default(self, obj)"
   ]
  },
  {
   "cell_type": "code",
   "execution_count": null,
   "metadata": {},
   "outputs": [],
   "source": [
    "# var_values = dict()\n",
    "# var_values[\"hi\"] = {\"hello\":np.ones((2,2))}\n",
    "# _json_str = json.dumps(var_values, cls = NumpyEncoder)\n",
    "# with open(\"some.json\",'w') as f:\n",
    "#     json.dump(_json_str,f)\n",
    "    \n",
    "    "
   ]
  },
  {
   "cell_type": "code",
   "execution_count": 1,
   "metadata": {
    "scrolled": true
   },
   "outputs": [
    {
     "name": "stdout",
     "output_type": "stream",
     "text": [
      "40\n",
      "[1.90797409 3.57364279 2.55066262 2.07964614 2.32537998 1.34707323\n",
      " 3.21405135 2.11370621 3.06975542 2.3738232  3.89601345 2.74069575\n",
      " 3.27128843 2.50458839 3.56249784 2.46763733 2.61383006 2.48014868\n",
      " 3.07275039 4.27269055 3.3830601  3.7909851  3.08525186 2.20631482\n",
      " 3.32719718 3.24436253 2.03385777 4.51210992 1.92377529 3.36178495\n",
      " 3.34373963 3.149271   2.32392405 3.17790184 2.08800532 6.12332036\n",
      " 3.10034207 2.63562527 1.87527235 0.         0.        ]\n"
     ]
    }
   ],
   "source": [
    "import json\n",
    "import numpy as np\n",
    "import os\n",
    "# fname = os.path.join('C:','Users','86165','Desktop','tank_admm.json')\n",
    "#fname = \"tank_admm.json\"\n",
    "fname = os.path.join('json_data','tank_admm_100_1w.json')\n",
    "with open(fname) as f_obj:\n",
    "    restore = json.load(f_obj)\n",
    "json_data = json.loads(restore) # the data of dict data\n",
    "W1 = json_data[\"w1\"]\n",
    "W2 = json_data[\"w2\"]\n",
    "b1 = json_data[\"b1\"]\n",
    "b2 = json_data[\"b2\"]\n",
    "\n",
    "W1_mean = np.zeros((4,10))\n",
    "b1_mean = np.zeros(10)\n",
    "W2_mean = np.zeros((10,2))\n",
    "b2_mean = np.zeros(2)\n",
    "\n",
    "ns = len(W1)\n",
    "for x in W1.values():\n",
    "    W1_mean += np.array(x)\n",
    "W1_mean = W1_mean/ns\n",
    "\n",
    "for x in W2.values():\n",
    "    W2_mean += np.array(x)\n",
    "W2_mean = W2_mean/ns\n",
    "\n",
    "for x in b1.values():\n",
    "    b1_mean += np.array(x)\n",
    "b1_mean = b1_mean/ns\n",
    "\n",
    "for x in b2.values():\n",
    "    b2_mean += np.array(x)\n",
    "b2_mean = b2_mean/ns\n",
    "    \n",
    "W1[\"Scenario0\"] = W1_mean\n",
    "W2[\"Scenario0\"] = W2_mean\n",
    "b1[\"Scenario0\"] = b1_mean\n",
    "b2[\"Scenario0\"] = b2_mean\n",
    "    \n",
    "# compute the norm:\n",
    "norm = np.zeros(ns+1)\n",
    "for i in range(1,ns):\n",
    "    norm[i-1] = np.linalg.norm(W1[\"Scenario\"+str(i)] - W1[\"Scenario0\"])+np.linalg.norm(W2[\"Scenario\"+str(i)] - W2[\"Scenario0\"])\\\n",
    "        +np.linalg.norm(b1[\"Scenario\"+str(i)] - b1[\"Scenario0\"]) + np.linalg.norm(b2[\"Scenario\"+str(i)] - b2[\"Scenario0\"])\n",
    "\n",
    "print(ns)\n",
    "print(norm)"
   ]
  },
  {
   "cell_type": "code",
   "execution_count": null,
   "metadata": {},
   "outputs": [],
   "source": [
    "# sn = 8\n",
    "\n",
    "# import numpy as np\n",
    "# W_1 = np.array(W1[\"Scenario\"+str(sn)])\n",
    "# W_2 = np.array(W2[\"Scenario\"+str(sn)])\n",
    "# b_1 = np.array(b1[\"Scenario\"+str(sn)])\n",
    "# b_2 = np.array(b2[\"Scenario\"+str(sn)])\n",
    "# def opt(x):\n",
    "#     global W_1, b_1, W_2, b_2\n",
    "#     hid1 =  np.tanh(W_1.T@x+b_1)\n",
    "#     out = np.tanh(W_2.T@hid1+b_2)\n",
    "#     return out"
   ]
  },
  {
   "cell_type": "code",
   "execution_count": 2,
   "metadata": {},
   "outputs": [],
   "source": [
    "import h5py\n",
    "f = h5py.File(\"test_data_1k.jld\",\"r\")\n",
    "z1_test = f[\"z1\"]\n",
    "z2_test = f[\"z2\"]\n",
    "z3_test = f[\"z3\"]\n",
    "z4_test = f[\"z4\"]\n",
    "\n",
    "N = 20\n",
    "h = 3\n",
    "xs = [14, 14, 14.2, 21.3]\n",
    "us = [43.4, 35.4]\n",
    "vmin = np.array([-43.4, -35.4])\n",
    "vmax = np.array([16.6, 24.6])\n",
    "zmin = [-6.5, -6.5, -10.7, -16.8]\n",
    "zmax = [14, 14, 13.8, 6.7]\n",
    "g = 981\n",
    "A = [50.27, 50.27, 28.27, 28.27]\n",
    "a = [0.233, 0.242, 0.127, 0.127]\n",
    "gama = [0.4, 0.4]\n",
    "N_sim = 500\n",
    "n_vali = 500\n",
    "ntest = 1000\n",
    "# np.random.seed(1)\n",
    "# z1_test = np.random.uniform(zmin[0],zmax[0],size = ntest)\n",
    "# z2_test = np.random.uniform(zmin[1],zmax[1],ntest)\n",
    "# z3_test = np.random.uniform(zmin[2],zmax[2],ntest)\n",
    "# z4_test = np.random.uniform(zmin[3],zmax[3],ntest)\n",
    "np.random.seed(0)\n",
    "z1_vali = np.random.uniform(zmin[0],zmax[0],size = ntest)\n",
    "z2_vali = np.random.uniform(zmin[1],zmax[1],ntest)\n",
    "z3_vali = np.random.uniform(zmin[2],zmax[2],ntest)\n",
    "z4_vali = np.random.uniform(zmin[3],zmax[3],ntest)\n",
    "\n",
    "\n",
    "def denormalizeV(v):\n",
    "    return (vmax + vmin)/2 + (vmax- vmin)/2 *v\n",
    "\n",
    "def step_model(z,v):\n",
    "    zold = z.copy()\n",
    "    z1 = zold[0] + h*(-a[0]/A[0]*np.sqrt(2*g*(zold[0]+xs[0])) + a[2]/A[0]*np.sqrt(2*g*(zold[2]+xs[2])) + gama[0]/A[0]*(v[0]+us[0]) )\n",
    "    z2 = zold[1] + h*(-a[1]/A[1]*np.sqrt(2*g*(zold[1]+xs[1])) + a[3]/A[1]*np.sqrt(2*g*(zold[3]+xs[3])) + gama[1]/A[1]*(v[1]+us[1]) )\n",
    "    z3 = zold[2] + h*(-a[2]/A[2]*np.sqrt(2*g*(zold[2]+xs[2])) + (1-gama[1])/A[2]*(v[1]+us[1]) )\n",
    "    z4 = zold[3] + h*(-a[3]/A[3]*np.sqrt(2*g*(zold[3]+xs[3])) + (1-gama[0])/A[3]*(v[0]+us[0]) )\n",
    "    return np.array([z1,z2,z3,z4])\n",
    "\n",
    "\n",
    "\n",
    "# cost_opt_test = np.array([])\n",
    "# vio_opt_test = np.array([])\n",
    "# vio_percent_opt_test = np.array([])\n",
    "\n",
    "# for i in range(ntest):\n",
    "#     v_trial = np.zeros((2,N_sim))\n",
    "#     z_trial = np.zeros((4,N_sim+1))\n",
    "#     z_trial[:,0] = np.array([z1_test[i],z2_test[i],z3_test[i],z4_test[i]])\n",
    "#     for t in range(N_sim):\n",
    "#         v_trial[:,t] = denormalizeV(opt(z_trial[:,t]))\n",
    "#         z_trial[:,t+1] = step_model(z_trial[:,t],v_trial[:,t])\n",
    "#     cost_opt_test = np.append(cost_opt_test, np.sum(z_trial[0,1:N_sim+1]**2 +  z_trial[1,1:N_sim+1]**2) \\\n",
    "#               + np.sum(0.01*v_trial[0,:]**2+0.01*v_trial[1,:]**2))\n",
    "#     vio_opt_test = np.append(vio_opt_test, np.maximum(np.max(z_trial[0,:] - zmax[0]),0) + np.maximum(np.max(zmin[0]-z_trial[0,:]),0) + \\\n",
    "#              np.maximum(np.max(z_trial[1,:]-zmax[1]),0) + np.maximum(np.max(zmin[1]-z_trial[1,:]),0) +\\\n",
    "#              np.maximum(np.max(z_trial[2,:]-zmax[2]),0) + np.maximum(np.max(zmin[2]-z_trial[2,:]),0) +\\\n",
    "#              np.maximum(np.max(z_trial[3,:]-zmax[3]),0) + np.maximum(np.max(zmin[3]-z_trial[3,:]),0))\n",
    "#     if vio_opt_test[i] >= 1e-3:\n",
    "#         vio_percent_opt_test = np.append(vio_percent_opt_test,1)\n",
    "#     else:\n",
    "#         vio_percent_opt_test = np.append(vio_percent_opt_test,0)\n",
    "        \n",
    "# print(\"Ipopt mean cost test: \", np.mean(cost_opt_test),\"\\n\")\n",
    "# print(\"Ipopt vio test: \", np.max(vio_opt_test),\"\\n\")\n",
    "# print(\"Ipopt vio percent in test: \", np.sum(vio_percent_opt_test)/ntest,\"\\n\")\n"
   ]
  },
  {
   "cell_type": "code",
   "execution_count": 3,
   "metadata": {},
   "outputs": [
    {
     "name": "stdout",
     "output_type": "stream",
     "text": [
      "[857.15042136 399.123181   398.49734894 397.47670739 403.65320144\n",
      " 395.95949908 400.04175958 395.48215214 401.54004474 402.549485\n",
      " 397.62823432 396.42684796 397.5281278  397.61075515 400.7507265\n",
      " 398.04564712 400.85521749 396.17583259 396.79825147 402.28250525\n",
      " 394.886586   401.04312772 398.30580919 397.82438906 399.04973562\n",
      " 399.6551417  398.86280996 400.950842   396.23822155 400.37423842\n",
      " 396.96369017 402.16546312 395.55444328 404.00679276 398.48483216\n",
      " 420.31373289 395.19148581 397.68902885 399.02376874 399.09085573\n",
      " 405.78241087]\n",
      "[ 6.36288667  1.60542449  1.33832238  1.68869878  2.67463628  2.16795951\n",
      "  1.82901706  1.72948378  1.21172974  1.41566888  1.63958087  1.11343579\n",
      "  1.22161624  0.88146401  1.23769269  0.92091381  2.60110419  1.61346466\n",
      "  1.10474841  3.351919    1.419719    1.73115997  0.97347391  1.22978903\n",
      "  1.97672081  1.24051176  0.78799502  1.74751776  1.51953417  1.2532766\n",
      "  1.44503606  0.5771426   2.97077475  1.62171154  3.47473766 12.92809764\n",
      "  1.07624644  1.25054726  2.29737331  0.7210487   1.89993631]\n",
      "[0.302 0.036 0.042 0.044 0.042 0.046 0.036 0.032 0.032 0.046 0.064 0.028\n",
      " 0.036 0.042 0.024 0.026 0.028 0.038 0.04  0.066 0.052 0.03  0.03  0.044\n",
      " 0.048 0.026 0.024 0.034 0.046 0.044 0.048 0.014 0.05  0.028 0.078 0.064\n",
      " 0.042 0.048 0.036 0.042 0.038]\n"
     ]
    }
   ],
   "source": [
    "SN = ns\n",
    "cost_mat = np.zeros(SN+1)\n",
    "vio_max = np.zeros(SN+1)\n",
    "vio_per = np.zeros(SN+1)\n",
    "\n",
    "for sn in range(SN+1):\n",
    "    W_1 = np.array(W1[\"Scenario\"+str(sn)])\n",
    "    W_2 = np.array(W2[\"Scenario\"+str(sn)])\n",
    "    b_1 = np.array(b1[\"Scenario\"+str(sn)])\n",
    "    b_2 = np.array(b2[\"Scenario\"+str(sn)])\n",
    "    def opt(x):\n",
    "        hid1 =  np.tanh(W_1.T@x+b_1)\n",
    "        out = np.tanh(W_2.T@hid1+b_2)\n",
    "        return out\n",
    "    \n",
    "    cost_opt_vali = np.array([])\n",
    "    vio_opt_vali = np.array([])\n",
    "    vio_percent_opt_vali = np.array([])\n",
    "\n",
    "    for i in range(n_vali):\n",
    "        v_trial = np.zeros((2,N_sim))\n",
    "        z_trial = np.zeros((4,N_sim+1))\n",
    "        z_trial[:,0] = np.array([z1_vali[i],z2_vali[i],z3_vali[i],z4_vali[i]])\n",
    "        for t in range(N_sim):\n",
    "            v_trial[:,t] = denormalizeV(opt(z_trial[:,t]))\n",
    "            z_trial[:,t+1] = step_model(z_trial[:,t],v_trial[:,t])\n",
    "        cost_opt_vali = np.append(cost_opt_vali, np.sum(z_trial[0,1:N_sim+1]**2 +  z_trial[1,1:N_sim+1]**2) \\\n",
    "                  + np.sum(0.01*v_trial[0,:]**2+0.01*v_trial[1,:]**2))\n",
    "        vio_opt_vali = np.append(vio_opt_vali, np.maximum(np.max(z_trial[0,:] - zmax[0]),0) + np.maximum(np.max(zmin[0]-z_trial[0,:]),0) + \\\n",
    "                 np.maximum(np.max(z_trial[1,:]-zmax[1]),0) + np.maximum(np.max(zmin[1]-z_trial[1,:]),0) +\\\n",
    "                 np.maximum(np.max(z_trial[2,:]-zmax[2]),0) + np.maximum(np.max(zmin[2]-z_trial[2,:]),0) +\\\n",
    "                 np.maximum(np.max(z_trial[3,:]-zmax[3]),0) + np.maximum(np.max(zmin[3]-z_trial[3,:]),0))\n",
    "        if vio_opt_vali[i] >= 1e-3:\n",
    "            vio_percent_opt_vali = np.append(vio_percent_opt_vali,1)\n",
    "        else:\n",
    "            vio_percent_opt_vali = np.append(vio_percent_opt_vali,0)\n",
    "            \n",
    "    cost_mat[sn] = np.mean(cost_opt_vali)\n",
    "    vio_max[sn] = np.max(vio_opt_vali)\n",
    "    vio_per[sn] = np.sum(vio_percent_opt_vali)/n_vali\n",
    "    \n",
    "print(cost_mat)\n",
    "\n",
    "print(vio_max)\n",
    "\n",
    "print(vio_per)\n",
    "\n"
   ]
  },
  {
   "cell_type": "code",
   "execution_count": 4,
   "metadata": {},
   "outputs": [
    {
     "name": "stdout",
     "output_type": "stream",
     "text": [
      "31\n"
     ]
    }
   ],
   "source": [
    "sn_min = np.argmin(vio_per[0:ns+1])\n",
    "print(sn_min)"
   ]
  },
  {
   "cell_type": "code",
   "execution_count": 5,
   "metadata": {
    "scrolled": true
   },
   "outputs": [
    {
     "name": "stdout",
     "output_type": "stream",
     "text": [
      "Ipopt mean cost test:  387.34534248617786 \n",
      "\n",
      "Ipopt vio test:  0.8269018841974436 \n",
      "\n",
      "Ipopt vio percent in test:  0.011 \n",
      "\n"
     ]
    }
   ],
   "source": [
    "\n",
    "W_1 = np.array(W1[\"Scenario\"+str(sn_min)])\n",
    "W_2 = np.array(W2[\"Scenario\"+str(sn_min)])\n",
    "b_1 = np.array(b1[\"Scenario\"+str(sn_min)])\n",
    "b_2 = np.array(b2[\"Scenario\"+str(sn_min)])\n",
    "def opt(x):\n",
    "    hid1 =  np.tanh(W_1.T@x+b_1)\n",
    "    out = np.tanh(W_2.T@hid1+b_2)\n",
    "    return out\n",
    "\n",
    "cost_opt_test = np.array([])\n",
    "vio_opt_test = np.array([])\n",
    "vio_percent_opt_test = np.array([])\n",
    "\n",
    "for i in range(ntest):\n",
    "    v_trial = np.zeros((2,N_sim))\n",
    "    z_trial = np.zeros((4,N_sim+1))\n",
    "    z_trial[:,0] = np.array([z1_test[i],z2_test[i],z3_test[i],z4_test[i]])\n",
    "    for t in range(N_sim):\n",
    "        v_trial[:,t] = denormalizeV(opt(z_trial[:,t]))\n",
    "        z_trial[:,t+1] = step_model(z_trial[:,t],v_trial[:,t])\n",
    "    cost_opt_test = np.append(cost_opt_test, np.sum(z_trial[0,1:N_sim+1]**2 +  z_trial[1,1:N_sim+1]**2) \\\n",
    "              + np.sum(0.01*v_trial[0,:]**2+0.01*v_trial[1,:]**2))\n",
    "    vio_opt_test = np.append(vio_opt_test, np.maximum(np.max(z_trial[0,:] - zmax[0]),0) + np.maximum(np.max(zmin[0]-z_trial[0,:]),0) + \\\n",
    "             np.maximum(np.max(z_trial[1,:]-zmax[1]),0) + np.maximum(np.max(zmin[1]-z_trial[1,:]),0) +\\\n",
    "             np.maximum(np.max(z_trial[2,:]-zmax[2]),0) + np.maximum(np.max(zmin[2]-z_trial[2,:]),0) +\\\n",
    "             np.maximum(np.max(z_trial[3,:]-zmax[3]),0) + np.maximum(np.max(zmin[3]-z_trial[3,:]),0))\n",
    "    if vio_opt_test[i] >= 1e-3:\n",
    "        vio_percent_opt_test = np.append(vio_percent_opt_test,1)\n",
    "    else:\n",
    "        vio_percent_opt_test = np.append(vio_percent_opt_test,0)\n",
    "print(\"Ipopt mean cost test: \", np.mean(cost_opt_test),\"\\n\")\n",
    "print(\"Ipopt vio test: \", np.max(vio_opt_test),\"\\n\")\n",
    "print(\"Ipopt vio percent in test: \", np.mean(vio_percent_opt_test),\"\\n\")          "
   ]
  },
  {
   "cell_type": "code",
   "execution_count": null,
   "metadata": {},
   "outputs": [],
   "source": []
  },
  {
   "cell_type": "code",
   "execution_count": null,
   "metadata": {},
   "outputs": [],
   "source": [
    "print(np.around(W1[\"Scenario5\"],10))"
   ]
  },
  {
   "cell_type": "code",
   "execution_count": null,
   "metadata": {},
   "outputs": [],
   "source": [
    "W2[\"Scenario5\"]"
   ]
  },
  {
   "cell_type": "code",
   "execution_count": null,
   "metadata": {},
   "outputs": [],
   "source": [
    "b1[\"Scenario5\"]"
   ]
  },
  {
   "cell_type": "code",
   "execution_count": null,
   "metadata": {},
   "outputs": [],
   "source": [
    "b2[\"Scenario5\"]"
   ]
  },
  {
   "cell_type": "code",
   "execution_count": null,
   "metadata": {},
   "outputs": [],
   "source": [
    "import json\n",
    " import numpy as np\n",
    "with open(\"some.json\") as f_obj:\n",
    "    restore = json.load(f_obj)\n",
    "print(restore)\n",
    "dumps = json.loads(restore)\n",
    "x = dumps[\"hi\"]\n",
    "for y in x.values():\n",
    "    print(np.asarray(y))\n",
    "# _hi = np.asarray(dumps[\"hi\"][\"hello\"])\n",
    "\n",
    "\n",
    "# print(_hi)  "
   ]
  },
  {
   "cell_type": "code",
   "execution_count": null,
   "metadata": {},
   "outputs": [],
   "source": []
  },
  {
   "cell_type": "code",
   "execution_count": null,
   "metadata": {},
   "outputs": [],
   "source": []
  }
 ],
 "metadata": {
  "kernelspec": {
   "display_name": "Python 3",
   "language": "python",
   "name": "python3"
  },
  "language_info": {
   "codemirror_mode": {
    "name": "ipython",
    "version": 3
   },
   "file_extension": ".py",
   "mimetype": "text/x-python",
   "name": "python",
   "nbconvert_exporter": "python",
   "pygments_lexer": "ipython3",
   "version": "3.7.1"
  }
 },
 "nbformat": 4,
 "nbformat_minor": 2
}
